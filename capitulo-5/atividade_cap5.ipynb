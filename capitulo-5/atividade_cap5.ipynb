{
 "cells": [
  {
   "cell_type": "markdown",
   "metadata": {
    "collapsed": false
   },
   "source": [
    "6. <span style='font-size:medium'>Use a chave 1010 0111 0011 1011 para encriptar o texto claro \"ok\" conforme expresso em ASCII, ou seja, 0110 1111 0110 1011. Os projetistas do S\\-AES obtiveram o texto cifrado 0000 0111 0011 1000. E você?</span>\n",
    "\n"
   ]
  },
  {
   "cell_type": "code",
   "execution_count": 1,
   "metadata": {
    "collapsed": false
   },
   "outputs": [
    {
     "name": "stdout",
     "output_type": "stream",
     "text": [
      "11000011\n"
     ]
    }
   ],
   "source": [
    "# Define a função para encriptar o texto claro usando a chave\n",
    "def encriptar(chave, texto_claro):\n",
    "    # Converter o texto claro para binário\n",
    "    texto_binario = bin(texto_claro)[2:].zfill(16)\n",
    "    \n",
    "    # Verificar se o texto binário tem o tamanho correto\n",
    "    if len(texto_binario) != 16:\n",
    "        raise ValueError(\"O texto claro deve ter 16 bits\")\n",
    "    \n",
    "    # Converter a chave para binário\n",
    "    chave_binario = bin(chave)[2:].zfill(16)\n",
    "    \n",
    "    # Realizar a permutação inicial\n",
    "    p1 = [2, 6, 3, 1, 4, 8, 5, 7]\n",
    "    texto_p1 = ''.join(texto_binario[i-1] for i in p1)\n",
    "    \n",
    "    # Aplicar a operação XOR entre o texto e a chave\n",
    "    texto_xor = bin(int(texto_p1, 2) ^ int(chave_binario, 2))[2:].zfill(8)\n",
    "    \n",
    "    # Realizar a permutação final\n",
    "    p2 = [4, 1, 3, 5, 7, 2, 8, 6]\n",
    "    texto_cifrado = ''.join(texto_xor[i-1] for i in p2)\n",
    "    \n",
    "    return texto_cifrado\n",
    "\n",
    "# Utilizar a chave e o texto fornecidos para obter o texto cifrado\n",
    "chave = 0b1010011100111011\n",
    "texto_claro = 0b110111101101011\n",
    "\n",
    "\n",
    "texto_cifrado_esperado = \"0000011100111000\"\n",
    "texto_cifrado_obtido = encriptar(chave, texto_claro)\n",
    "\n",
    "# Verificar se o texto cifrado obtido coincide com o texto cifrado esperado\n",
    "texto_cifrado_esperado == texto_cifrado_obtido\n",
    "print(texto_cifrado_obtido)"
   ]
  }
 ],
 "metadata": {
  "kernelspec": {
   "argv": [
    "sage-10.0",
    "--python",
    "-m",
    "sage.repl.ipython_kernel",
    "--matplotlib=inline",
    "-f",
    "{connection_file}"
   ],
   "display_name": "SageMath 10.0",
   "env": {},
   "language": "sagemath",
   "metadata": {
    "cocalc": {
     "description": "Open-source mathematical software system",
     "priority": 10,
     "url": "https://www.sagemath.org/"
    }
   },
   "name": "sage-10.0",
   "resource_dir": "/ext/jupyter/kernels/sage-10.0"
  },
  "language_info": {
   "codemirror_mode": {
    "name": "ipython",
    "version": 3
   },
   "file_extension": ".py",
   "mimetype": "text/x-python",
   "name": "python",
   "nbconvert_exporter": "python",
   "pygments_lexer": "ipython3",
   "version": "3.11.1"
  }
 },
 "nbformat": 4,
 "nbformat_minor": 4
}
