{
 "cells": [
  {
   "cell_type": "markdown",
   "metadata": {
    "collapsed": false
   },
   "source": [
    "#### 7. Crie um software que possa encriptar e decriptar no modo cipher block chaining usando umadas seguintes cifras: módulo affine 256, módulo Hill 256, S-DES, DES.\n",
    "\n"
   ]
  },
  {
   "cell_type": "code",
   "execution_count": 9,
   "metadata": {
    "collapsed": false
   },
   "outputs": [
    {
     "name": "stdout",
     "output_type": "stream",
     "text": [
      "Texto cifrado: ÒÓ\u0016Ò}>±°\u0017Ò}õ°äÂ}\n",
      "Texto decifrado: texto criptografado\n"
     ]
    }
   ],
   "source": [
    "def mod_inverse(a, m):\n",
    "    mdc, x, y = xgcd(a, m)\n",
    "    if mdc != 1:\n",
    "        return None\n",
    "    else:\n",
    "        return x % m\n",
    "        \n",
    "    \n",
    "def encrypt(plaintext, a, b):\n",
    "    ciphertext = \"\"\n",
    "    for char in plaintext:\n",
    "        char_value = ord(char)\n",
    "        if 0 <= char_value <= 255:\n",
    "            encrypted_value = (a * char_value + b) % 256\n",
    "            ciphertext += chr(encrypted_value)\n",
    "        else:\n",
    "            ciphertext += char\n",
    "    return ciphertext\n",
    "\n",
    "def decrypt(ciphertext, a, b):\n",
    "    plaintext = \"\"\n",
    "    a_inverse = mod_inverse(a, 256)\n",
    "    if a_inverse is None:\n",
    "        return \"Forneça uma chave valida.\"\n",
    "    \n",
    "    for char in ciphertext:\n",
    "        char_value = ord(char)\n",
    "        if 0 <= char_value <= 255:\n",
    "            decrypted_value = (a_inverse * (char_value - b)) % 256\n",
    "            plaintext += chr(decrypted_value)\n",
    "        else:\n",
    "            plaintext += char\n",
    "    return plaintext\n",
    "\n",
    "\n",
    "plaintext = \"texto criptografado\"\n",
    "a, b = 17, 30\n",
    "\n",
    "# Encriptação\n",
    "ciphertext = encrypt(plaintext, a, b)\n",
    "print(\"Texto cifrado:\", ciphertext)\n",
    "\n",
    "# Decriptação\n",
    "decrypted_text = decrypt(ciphertext, a, b)\n",
    "print(\"Texto decifrado:\", decrypted_text)"
   ]
  }
 ],
 "metadata": {
  "kernelspec": {
   "argv": [
    "sage-10.0",
    "--python",
    "-m",
    "sage.repl.ipython_kernel",
    "--matplotlib=inline",
    "-f",
    "{connection_file}"
   ],
   "display_name": "SageMath 10.0",
   "env": {},
   "language": "sagemath",
   "metadata": {
    "cocalc": {
     "description": "Open-source mathematical software system",
     "priority": 10,
     "url": "https://www.sagemath.org/"
    }
   },
   "name": "sage-10.0",
   "resource_dir": "/ext/jupyter/kernels/sage-10.0"
  },
  "language_info": {
   "codemirror_mode": {
    "name": "ipython",
    "version": 3
   },
   "file_extension": ".py",
   "mimetype": "text/x-python",
   "name": "python",
   "nbconvert_exporter": "python",
   "pygments_lexer": "ipython3",
   "version": "3.11.1"
  }
 },
 "nbformat": 4,
 "nbformat_minor": 4
}
