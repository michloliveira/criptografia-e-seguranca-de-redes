{
 "cells": [
  {
   "attachments": {},
   "cell_type": "markdown",
   "metadata": {},
   "source": [
    "<span style='font-size:large'>**CIFRA DE HILL**</span>\n"
   ]
  },
  {
   "cell_type": "code",
   "execution_count": 16,
   "metadata": {
    "collapsed": false
   },
   "outputs": [],
   "source": [
    "ptbr_alphabet = \"abcdefghijklmnopqrstuvwxyz \""
   ]
  },
  {
   "cell_type": "code",
   "execution_count": null,
   "metadata": {
    "collapsed": false
   },
   "outputs": [],
   "source": [
    "def char_to_num(c):\n",
    "    return ptbr_alphabet.index(c.lower()) + 1"
   ]
  },
  {
   "cell_type": "code",
   "execution_count": null,
   "metadata": {
    "collapsed": false
   },
   "outputs": [],
   "source": [
    "def num_to_char(x):\n",
    "    return ptbr_alphabet[x % 27]"
   ]
  },
  {
   "cell_type": "code",
   "execution_count": null,
   "metadata": {
    "collapsed": false
   },
   "outputs": [],
   "source": [
    "def inverseMatrix(M):\n",
    "    return M^-1"
   ]
  },
  {
   "cell_type": "code",
   "execution_count": null,
   "metadata": {
    "collapsed": false
   },
   "outputs": [],
   "source": [
    "def determinantMatrix(M):\n",
    "    return M.det()"
   ]
  },
  {
   "cell_type": "code",
   "execution_count": null,
   "metadata": {
    "collapsed": false
   },
   "outputs": [],
   "source": [
    "def HillEncrypt(M, plainText):\n",
    "    txt_encrip = \"\"\n",
    "    \n",
    "    if(len(plainText) % 2 != 0):\n",
    "        plainText += \" \"\n",
    "        \n",
    "    for i in range(0, (len(plainText)- 1), 2):\n",
    "        #transformando os caracteres em numeros\n",
    "        x = char_to_num(plainText[i])\n",
    "        y = char_to_num(plainText[i+1])\n",
    "                \n",
    "        #criando segunda matriz\n",
    "        M2 = matrix([[x],[y]])\n",
    "        \n",
    "        mensagem_codificada = M * M2\n",
    "\n",
    "        \n",
    "        txt_encrip += str(num_to_char(mensagem_codificada[0][0] - 1))\n",
    "        txt_encrip += str(num_to_char(mensagem_codificada[1][0] - 1))\n",
    "\n",
    "    print(txt_encrip)\n",
    "    return txt_encrip"
   ]
  },
  {
   "cell_type": "code",
   "execution_count": null,
   "metadata": {
    "collapsed": false
   },
   "outputs": [],
   "source": [
    "def HillDecrypt(M, plainText):\n",
    "    txt_decrip = \"\"\n",
    "    inverse = inverseMatrix(M)\n",
    "    \n",
    "    for i in range(0, (len(plainText)- 1), 2):\n",
    "        #transformando os caracteres em numeros\n",
    "        x = char_to_num(plainText[i])\n",
    "        y = char_to_num(plainText[i+1])\n",
    "                \n",
    "        #criando segunda matriz\n",
    "        M2 = matrix([[x],[y]])\n",
    "        \n",
    "        mensagem_codificada = inverse * M2\n",
    "  \n",
    "        txt_decrip += str(num_to_char(mensagem_codificada[0][0] - 1))\n",
    "        txt_decrip += str(num_to_char(mensagem_codificada[1][0] - 1))\n",
    "       \n",
    "    \n",
    "    print(txt_decrip)\n",
    "          \n",
    "    return txt_decrip"
   ]
  },
  {
   "cell_type": "code",
   "execution_count": null,
   "metadata": {
    "collapsed": false
   },
   "outputs": [
    {
     "name": "stdout",
     "output_type": "stream",
     "text": [
      "orcibumwhecuxi\n"
     ]
    }
   ],
   "source": [
    "key = matrix([[2, 1],[-6, 4]]);\n",
    "\n",
    "txt_encript = HillEncrypt(key,\"Cifra de Hill\")"
   ]
  },
  {
   "cell_type": "code",
   "execution_count": null,
   "metadata": {
    "collapsed": false
   },
   "outputs": [
    {
     "name": "stdout",
     "output_type": "stream",
     "text": [
      "cifra de hill \n"
     ]
    }
   ],
   "source": [
    "txt_decript = HillDecrypt(key,txt_encript)"
   ]
  }
 ],
 "metadata": {
  "kernelspec": {
   "argv": [
    "sage-10.0",
    "--python",
    "-m",
    "sage.repl.ipython_kernel",
    "--matplotlib=inline",
    "-f",
    "{connection_file}"
   ],
   "display_name": "SageMath 10.0",
   "env": {},
   "language": "sagemath",
   "metadata": {
    "cocalc": {
     "description": "Open-source mathematical software system",
     "priority": 10,
     "url": "https://www.sagemath.org/"
    }
   },
   "name": "sage-10.0",
   "resource_dir": "/ext/jupyter/kernels/sage-10.0"
  },
  "language_info": {
   "codemirror_mode": {
    "name": "ipython",
    "version": 3
   },
   "file_extension": ".py",
   "mimetype": "text/x-python",
   "name": "python",
   "nbconvert_exporter": "python",
   "pygments_lexer": "ipython3",
   "version": "3.11.1"
  }
 },
 "nbformat": 4,
 "nbformat_minor": 4
}
