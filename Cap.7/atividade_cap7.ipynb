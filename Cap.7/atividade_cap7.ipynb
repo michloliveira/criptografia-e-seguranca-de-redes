{
 "cells": [
  {
   "cell_type": "markdown",
   "metadata": {
    "collapsed": false
   },
   "source": [
    "<span style='font-size:xx-large'>Atividade Cap. 07</span>\n"
   ]
  },
  {
   "cell_type": "markdown",
   "metadata": {
    "collapsed": false
   },
   "source": [
    "**8. O algoritmo Blum Blum Shub é baseado na teoria dos resíduos quadráticos e utiliza três números inteiros para realizar os cálculos: p, q e s.**\n",
    "\n",
    "**\\(a\\) Escolha dois números primos grandes p e q, onde p e q sejam congruentes a 3 mod 4 e não tenham fatores primos comuns. Por exemplo, você pode escolher p = 499 e q = 503.**\n",
    "\n",
    "**\\(b\\) Calcule n = p ∗ q. Neste caso, n seria igual a 499 ∗ 503 = 250997.**\n",
    "\n",
    "**\\(c\\) Escolha um número inteiro s entre 1 e n − 1 que seja co\\-primo com n. Por exemplo, você pode escolher s = 17.**\n",
    "\n",
    "**\\(d\\) Calcule o valor inicial x0 = \\(s^2\\) mod n. Neste caso, x0 seria igual a \\(172\\) mod 250997 = 289.**\n",
    "\n",
    "**\\(e\\) Agora, vamos gerar uma sequência de números aleatórios usando o algoritmo Blum Blum Shub. Para gerar cada número da sequência, use a seguinte fórmula: xi = \\(2²i−1\\) mod n.**\n",
    "\n",
    "**\\(f\\) Execute a fórmula várias vezes para gerar uma sequência de números aleatórios. Por exemplo, você pode executar a fórmula 10 vezes para obter 10 números aleatórios. Aqui está a sequência de números aleatórios gerados usando o algoritmo Blum Blum Shub com os valores do exemplo:**\n",
    "\n",
    "**289, 253306, 14107, 23546, 67740, 144593, 79829, 46219, 132936, 9863**\n",
    "\n",
    "**Qual foi a sua sequência?**\n",
    "\n"
   ]
  },
  {
   "cell_type": "code",
   "execution_count": 1,
   "metadata": {
    "collapsed": false
   },
   "outputs": [
    {
     "name": "stdout",
     "output_type": "stream",
     "text": [
      "3\n",
      "3\n"
     ]
    }
   ],
   "source": [
    "# (a) Escolha dois números primos grandes p e q, onde p e q sejam congruentes a 3 mod 4 e não tenham fatores primos comuns. Por exemplo, você pode escolher p = 499 e \n",
    "# 1) p e q devem ser congruentes a 3 (mod 4). Isso significa que o resto da divisão de p e q por 4 deve ser igual a 3.\n",
    "# 2) p e q não devem ter fatores primos comuns. Isso significa que eles não devem ter nenhum divisor primo em comum.\n",
    "#q = 503.\n",
    "print(683 % 4)\n",
    "print(1151 % 4)\n",
    "\n",
    "p = 683\n",
    "q = 1151\n"
   ]
  },
  {
   "cell_type": "code",
   "execution_count": 20,
   "metadata": {
    "collapsed": false
   },
   "outputs": [
    {
     "data": {
      "text/plain": [
       "786133"
      ]
     },
     "execution_count": 20,
     "metadata": {},
     "output_type": "execute_result"
    }
   ],
   "source": [
    "#(b) Calcule n = p ∗ q. Neste caso, n seria igual a 499 ∗ 503 = 250997.\n",
    "\n",
    "n = p * q ; n"
   ]
  },
  {
   "cell_type": "code",
   "execution_count": 33,
   "metadata": {
    "collapsed": false
   },
   "outputs": [],
   "source": [
    "#(c) Escolha um número inteiro s entre 1 e n − 1 que seja co-primo com n. Por exemplo, você pode escolher s = 17.\n",
    "\n",
    "s = 63"
   ]
  },
  {
   "cell_type": "code",
   "execution_count": 34,
   "metadata": {
    "collapsed": false
   },
   "outputs": [
    {
     "data": {
      "text/plain": [
       "3969"
      ]
     },
     "execution_count": 34,
     "metadata": {},
     "output_type": "execute_result"
    }
   ],
   "source": [
    "# (d) Calcule o valor inicial x0 = (s^2) mod n. Neste caso, x0 seria igual a (172) mod 250997 = 289.\n",
    "\n",
    "x0 = (s**2) % n ; x0"
   ]
  },
  {
   "cell_type": "code",
   "execution_count": 36,
   "metadata": {
    "collapsed": false
   },
   "outputs": [
    {
     "data": {
      "text/plain": [
       "30301"
      ]
     },
     "execution_count": 36,
     "metadata": {},
     "output_type": "execute_result"
    }
   ],
   "source": [
    "# (e) Agora, vamos gerar uma sequência de números aleatórios usando o algoritmo Blum Blum Shub. Para gerar cada número da sequência, use a seguinte fórmula: xi = (x²i−1) mod n.\n",
    "\n",
    "xi = (x0**2) % n ; xi"
   ]
  },
  {
   "cell_type": "code",
   "execution_count": 40,
   "metadata": {
    "collapsed": false
   },
   "outputs": [
    {
     "name": "stdout",
     "output_type": "stream",
     "text": [
      "3969,30301,733390,485495,709901,222688,675704,68945,452907,639225,"
     ]
    }
   ],
   "source": [
    "# (f) Execute a fórmula várias vezes para gerar uma sequência de números aleatórios. Por exemplo, você pode executar a fórmula 10 vezes para \n",
    "# obter 10 números aleatórios. Aqui está a sequência de números aleatórios gerados usando o algoritmo Blum Blum Shub com os valores do exemplo:\n",
    "# 289, 253306, 14107, 23546, 67740, 144593, 79829, 46219, 132936, 9863\n",
    "# Qual foi a sua sequência?\n",
    "x = x0\n",
    "for i in range(10):\n",
    "    print(x, end=\",\")\n",
    "    x = (x**2) % n"
   ]
  },
  {
   "cell_type": "markdown",
   "metadata": {
    "collapsed": false
   },
   "source": [
    "<span style='font-size:x-large'><span style='color:#673ab7'>BlumBlumShub</span></span>\n"
   ]
  },
  {
   "cell_type": "code",
   "execution_count": 10,
   "metadata": {
    "collapsed": false
   },
   "outputs": [],
   "source": [
    "def BlumBlumShub_Initialize(bitlen, seed):\n",
    "    r\"\"\"\n",
    "    Inicializa um estado do RNG Blum-Blum-Shub.²\n",
    "    Um estado BBS-RNG é uma lista com dois elementos:\n",
    "    [N, X]\n",
    "    N é 2*bitlen módulo (produto de dois primos)\n",
    "    X é o estado atual do PRNG.³\n",
    "    ENTRADA:\n",
    "        bitlen – o tamanho em bits de cada um dos fatores primos de n\n",
    "        seed – um inteiro aleatório grande para iniciar o prng\n",
    "    SAÍDA:\n",
    "        state – um estado interno do BBS-RNG\n",
    "    \"\"\"\n",
    "    # note que, criptograficamente, este não é o modo mais seguro\n",
    "    # de gerar primos, pois não sabemos como a função interna\n",
    "    # random_prime do Sage funciona.\n",
    "    p = 3;\n",
    "    while (p < 2^(bitlen-1)) or (3 != (p % 4)):\n",
    "        p = random_prime(2^bitlen);\n",
    "    \n",
    "    q = 3;\n",
    "    while (q < 2^(bitlen-1)) or (3 != (q % 4)):\n",
    "        q = random_prime(2^bitlen);\n",
    "    \n",
    "    N = p*q;\n",
    "    X = (seed^2 % N)\n",
    "    state = [N, X]\n",
    "    \n",
    "    return state;"
   ]
  },
  {
   "cell_type": "code",
   "execution_count": 47,
   "metadata": {
    "collapsed": false
   },
   "outputs": [
    {
     "data": {
      "text/plain": [
       "[713, 441]"
      ]
     },
     "execution_count": 47,
     "metadata": {},
     "output_type": "execute_result"
    }
   ],
   "source": [
    "state = BlumBlumShub_Initialize(5, 250997) ; state"
   ]
  },
  {
   "cell_type": "code",
   "execution_count": 42,
   "metadata": {
    "collapsed": false
   },
   "outputs": [],
   "source": [
    "def BlumBlumShub_Generate(num_bits, state):\n",
    "    r\"\"\"\n",
    "    Função de geração de número aleatório Blum-Blum-Shum.\n",
    "    ENTRADA:\n",
    "        num_bits – o número de bits (iterações) a ser\n",
    "        gerado com este RNG.\n",
    "        state – um estado interno do BBS-RNG (uma lista\n",
    "        [N, X].)\n",
    "    SAÍDA:\n",
    "        random_bits – uma lista de tamanho num_bits de bits aleatórios.\n",
    "    \"\"\"\n",
    "    \n",
    "    random_bits = [];\n",
    "    N = state[0]\n",
    "    X = state[1]\n",
    "    for j in range(num_bits):\n",
    "        X = X^2 % N\n",
    "        random_bits.append(X % 2)\n",
    "    # atualiza o estado interno\n",
    "    state[1] = X;\n",
    "    return random_bits;"
   ]
  },
  {
   "cell_type": "code",
   "execution_count": 48,
   "metadata": {
    "collapsed": false
   },
   "outputs": [
    {
     "data": {
      "text/plain": [
       "[1, 1, 0, 0, 0, 0, 1, 1, 1, 0]"
      ]
     },
     "execution_count": 48,
     "metadata": {},
     "output_type": "execute_result"
    }
   ],
   "source": [
    "x = BlumBlumShub_Generate(10, state) ; x"
   ]
  }
 ],
 "metadata": {
  "kernelspec": {
   "argv": [
    "sage-10.0",
    "--python",
    "-m",
    "sage.repl.ipython_kernel",
    "--matplotlib=inline",
    "-f",
    "{connection_file}"
   ],
   "display_name": "SageMath 10.0",
   "env": {},
   "language": "sagemath",
   "metadata": {
    "cocalc": {
     "description": "Open-source mathematical software system",
     "priority": 10,
     "url": "https://www.sagemath.org/"
    }
   },
   "name": "sage-10.0",
   "resource_dir": "/ext/jupyter/kernels/sage-10.0"
  },
  "language_info": {
   "codemirror_mode": {
    "name": "ipython",
    "version": 3
   },
   "file_extension": ".py",
   "mimetype": "text/x-python",
   "name": "python",
   "nbconvert_exporter": "python",
   "pygments_lexer": "ipython3",
   "version": "3.11.1"
  }
 },
 "nbformat": 4,
 "nbformat_minor": 4
}
