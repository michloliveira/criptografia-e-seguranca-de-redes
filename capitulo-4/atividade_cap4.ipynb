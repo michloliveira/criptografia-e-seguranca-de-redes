{
 "cells": [
  {
   "cell_type": "markdown",
   "metadata": {
    "collapsed": false
   },
   "source": [
    "# Atividade 4\n",
    "\n",
    "Disciplina: Segurança de Redes de computadores\n",
    "\n",
    "Estudantes: Emily Santos, Geisianny Bernardo e Michel Oliveira.\n",
    "\n"
   ]
  },
  {
   "cell_type": "markdown",
   "metadata": {
    "collapsed": false
   },
   "source": [
    "<span style='font-size:medium'>1. Defina resumidamente, um grupo, um anel, um corpo.</span>\n",
    "\n",
    "<span style='font-size:medium'>**Grupo:**</span><span style='font-size:medium'>Um grupo é uma estrutura que consiste em um conjunto com uma operação binária que possui associatividade, elemento neutro e elemento inverso para </span>\n",
    "\n",
    "<span style='font-size:medium'>cada elemento do grupo. Os grupos são estudados para analisar as propriedades e estruturas das operações.</span>\n",
    "\n",
    "<span style='font-size:medium'>**Anel:** </span><span style='font-size:medium'>Um anel é uma estrutura que consiste em um conjunto com duas operações binárias: adição e multiplicação. Essas operações devem ser associativas, </span>\n",
    "\n",
    "<span style='font-size:medium'>a adição deve ter um elemento neutro e a multiplicação deve ter a  distributividade em relação à adição. Os anéis são objetos de estudo</span>\n",
    "\n",
    "<span style='font-size:medium'>na álgebra e teoria dos números.</span>\n",
    "\n",
    "<span style='font-size:medium'>**Corpo**</span><span style='font-size:medium'>: Um corpo é uma estrutura mais abrangente que um anel. É um conjunto com operações de adição e multiplicação que possuem todas as propriedades </span>\n",
    "\n",
    "<span style='font-size:medium'>de um anel, além de ter um inverso multiplicativo para cada elemento não nulo do corpo. Os corpos são utilizados em diversos ramos da matemática, </span>\n",
    "\n",
    "<span style='font-size:medium'>como álgebra linear, análise matemática e teoria dos números.</span>\n",
    "\n"
   ]
  },
  {
   "cell_type": "markdown",
   "metadata": {
    "collapsed": false
   },
   "source": [
    "<span style='font-size:medium'>2. O que significa dizer que b é um divisor de a?</span>\n",
    "\n",
    "<span style='font-size:medium'>Dizer que \"b é um divisor de a\" implica que a divisão de a por b resulta em uma divisão exata, sem deixar resto. Em termos matemáticos, isso é denotado </span>\n",
    "\n",
    "<span style='font-size:medium'>pela expressão \"a é divisível por b\" ou \"a é um múltiplo de b\"</span>\n"
   ]
  },
  {
   "cell_type": "markdown",
   "metadata": {
    "collapsed": false
   },
   "source": [
    "3. \n",
    "\n",
    "<span style='font-size:large'>Para cada uma das seguintes equações, encontre um inteiro x que satisfaça:</span>\n",
    "\n",
    "<span style='font-size:large'>**5x ≡ 4 \\(mod 3\\)**</span>\n",
    "\n",
    "<span style='font-size:large'>**7x ≡ 6 \\(mod 5\\)**</span>\n",
    "\n",
    "<span style='font-size:large'>**9x ≡ 8 \\(mod 7\\)**</span>\n",
    "\n"
   ]
  },
  {
   "cell_type": "code",
   "execution_count": 1,
   "metadata": {
    "collapsed": false
   },
   "outputs": [
    {
     "name": "stdout",
     "output_type": "stream",
     "text": [
      "3\n"
     ]
    }
   ],
   "source": [
    "# 7x = 6 mod 5\n",
    "# 5 = n\n",
    "# 7 = a \n",
    "# 6 = b\n",
    "\n",
    "# (7x - 6) / 5\n",
    "    \n",
    "def calcular_x(a,b,n):   \n",
    "    for x in range(1, 100):\n",
    "        y = a * x - b\n",
    "        if(y % n == 0):\n",
    "            print(x)\n",
    "            break\n",
    " \n",
    "calcular_x(7,6,5)"
   ]
  },
  {
   "cell_type": "code",
   "execution_count": 2,
   "metadata": {
    "collapsed": false
   },
   "outputs": [
    {
     "name": "stdout",
     "output_type": "stream",
     "text": [
      "x = 2\n",
      "x = 3\n",
      "x = 4\n"
     ]
    }
   ],
   "source": [
    "for x in range(0, 3):\n",
    "    if ((5*x) % 3) == 1:\n",
    "        print(f\"x = {x}\")\n",
    "\n",
    "for x in range(0, 5):\n",
    "    if ((7*x) % 5) == 1:\n",
    "        print(f\"x = {x}\")\n",
    "        \n",
    "for x in range(0, 7):\n",
    "    if ((9*x) % 7) == 1:\n",
    "        print(f\"x = {x}\")"
   ]
  },
  {
   "cell_type": "markdown",
   "metadata": {
    "collapsed": false
   },
   "source": [
    "4\\)\n",
    "\n",
    "<span style='font-size:large'>Encontre o inverso multiplicativo de cada elemento diferente de zero em Z5.</span>\n"
   ]
  },
  {
   "cell_type": "code",
   "execution_count": 29,
   "metadata": {
    "collapsed": false,
    "scrolled": true
   },
   "outputs": [
    {
     "name": "stdout",
     "output_type": "stream",
     "text": [
      "1\n",
      "3\n",
      "2\n",
      "4\n"
     ]
    }
   ],
   "source": [
    "K = GF(5)\n",
    "\n",
    "for i in K:\n",
    "    if i != 0:\n",
    "        print(i^-1)"
   ]
  },
  {
   "cell_type": "markdown",
   "metadata": {
    "collapsed": false
   },
   "source": [
    "5\\)\n",
    "\n",
    "<span style='font-size:large'>Determine os MDC:</span>\n",
    "\n",
    "<span style='font-size:large'>**mdc\\(24140, 16762\\)**</span>\n",
    "\n",
    "<span style='font-size:large'>**mdc\\(4655, 12075\\).**</span>\n"
   ]
  },
  {
   "cell_type": "code",
   "execution_count": 68,
   "metadata": {
    "collapsed": false
   },
   "outputs": [
    {
     "name": "stdout",
     "output_type": "stream",
     "text": [
      "34\n"
     ]
    }
   ],
   "source": [
    "print(gcd(24140, 16762))"
   ]
  },
  {
   "cell_type": "code",
   "execution_count": 69,
   "metadata": {
    "collapsed": false
   },
   "outputs": [
    {
     "name": "stdout",
     "output_type": "stream",
     "text": [
      "35\n"
     ]
    }
   ],
   "source": [
    "print(gcd(4655, 12075))"
   ]
  },
  {
   "cell_type": "markdown",
   "metadata": {
    "collapsed": false
   },
   "source": [
    "6\\)\n",
    "\n",
    "<span style='font-size:large'>Usando o algoritmo de Euclides estendido, encontre o inverso multiplicativo de:</span>\n",
    "\n",
    "<span style='font-size:large'>**1234 mod 4321;**</span>\n",
    "\n",
    "<span style='font-size:large'>**24140 mod 40902;**</span>\n",
    "\n",
    "<span style='font-size:large'>**550 mod 1769.**</span>\n"
   ]
  },
  {
   "cell_type": "code",
   "execution_count": 6,
   "metadata": {
    "collapsed": false
   },
   "outputs": [
    {
     "name": "stdout",
     "output_type": "stream",
     "text": [
      "3239\n"
     ]
    }
   ],
   "source": [
    "a = 1234\n",
    "b = 4321\n",
    "mdc, x, y = xgcd(a, b)\n",
    "\n",
    "print(x % b) if mdc == 1 else print(\"null\")\n"
   ]
  },
  {
   "cell_type": "code",
   "execution_count": 5,
   "metadata": {
    "collapsed": false
   },
   "outputs": [
    {
     "name": "stdout",
     "output_type": "stream",
     "text": [
      "null\n"
     ]
    }
   ],
   "source": [
    "a = 24140\n",
    "b = 40902\n",
    "mdc, x, y = xgcd(a, b)\n",
    "\n",
    "print(x % b) if mdc == 1 else print(\"null\")\n"
   ]
  },
  {
   "cell_type": "code",
   "execution_count": 7,
   "metadata": {
    "collapsed": false
   },
   "outputs": [
    {
     "name": "stdout",
     "output_type": "stream",
     "text": [
      "550\n"
     ]
    }
   ],
   "source": [
    "a = 550\n",
    "b = 1769\n",
    "mdc, x, y = xgcd(a, b)\n",
    "\n",
    "print(x % b) if mdc == 1 else print(\"null\")"
   ]
  },
  {
   "cell_type": "markdown",
   "metadata": {
    "collapsed": false
   },
   "source": [
    "<span style='font-size:large'>7. Determine o inverso multiplicativo de x^3 \\+ x \\+ 1 em GF\\(2^4\\), com m\\(x\\) = x^4 \\+ x \\+ 1.</span>\n"
   ]
  },
  {
   "cell_type": "code",
   "execution_count": 2,
   "metadata": {
    "collapsed": false
   },
   "outputs": [
    {
     "data": {
      "text/plain": [
       "a^2 + 1"
      ]
     },
     "execution_count": 2,
     "metadata": {},
     "output_type": "execute_result"
    }
   ],
   "source": [
    "K.<a> = GF(2^4)\n",
    "\n",
    "\n",
    "x = K.gen()\n",
    "\n",
    "\n",
    "m = x^4 + x + 1\n",
    "\n",
    "\n",
    "f = x^3 + x + 1\n",
    "\n",
    "\n",
    "f_inv = f.inverse_mod(m)\n",
    "\n",
    "f_inv"
   ]
  },
  {
   "cell_type": "markdown",
   "metadata": {
    "collapsed": false
   },
   "source": [
    "<span style='font-size:large'>8. Para a aritmética de polinômios com coeficientes em Z10, realize os seguintes cálculos:</span>\n",
    "\n",
    "<span style='font-size:large'>\\(a\\) \\(7x \\+ 2\\) − \\(x^2 \\+ 5\\)</span>\n",
    "\n",
    "<span style='font-size:large'>\\(b\\) \\(6x^2 \\+ x \\+ 3\\) × \\(5x^2 \\+ 2\\)</span>\n",
    "\n"
   ]
  },
  {
   "cell_type": "code",
   "execution_count": 74,
   "metadata": {
    "collapsed": false
   },
   "outputs": [
    {
     "name": "stdout",
     "output_type": "stream",
     "text": [
      "30*x^4 + 5*x^3 + 27*x^2 + 2*x + 6\n"
     ]
    }
   ],
   "source": [
    "# Define the symbolic variable x\n",
    "var('x')\n",
    "#(6x^2 + x + 3) × (5x^2 + 2)\n",
    "# Define the given expression\n",
    "expression = expand((6*x^2 + x + 3) * (5*x^2 + 2))\n",
    "\n",
    "# Print the result\n",
    "print(expression)"
   ]
  },
  {
   "cell_type": "code",
   "execution_count": 58,
   "metadata": {
    "collapsed": false
   },
   "outputs": [
    {
     "name": "stdout",
     "output_type": "stream",
     "text": [
      "-x^2 + 7*x - 3\n"
     ]
    }
   ],
   "source": [
    "# Define the symbolic variable x\n",
    "var('x')\n",
    "\n",
    "# Define the given expression\n",
    "expression = expand((7*x + 2) - (x^2 + 5))\n",
    "\n",
    "# Print the result\n",
    "print(expression)"
   ]
  },
  {
   "cell_type": "markdown",
   "metadata": {
    "collapsed": false
   },
   "source": [
    "<span style='font-size:large'>Estruture uma calculadora simples de quatro funções em GF\\(2^4\\). Você pode usar uma tabela com valores pré\\-calculados para os inversos multiplicativos.</span>\n",
    "\n"
   ]
  },
  {
   "cell_type": "code",
   "execution_count": 55,
   "metadata": {
    "collapsed": false
   },
   "outputs": [
    {
     "name": "stdout",
     "output_type": "stream",
     "text": [
      "Tabela Inverso Multiplicativo:\n",
      "[0, 0, 0, 0, 0, 0, 0, 0, 0, 0, 0, 0, 0, 0, 0, 0]\n",
      "[0, 1, 2, 3, 4, 5, 6, 7, 8, 9, 10, 11, 12, 13, 14, 15]\n",
      "[0, 2, 4, 6, 8, 10, 12, 14, 0, 2, 4, 6, 8, 10, 12, 14]\n",
      "[0, 3, 6, 9, 12, 15, 2, 5, 8, 11, 14, 1, 4, 7, 10, 13]\n",
      "[0, 4, 8, 12, 0, 4, 8, 12, 0, 4, 8, 12, 0, 4, 8, 12]\n",
      "[0, 5, 10, 15, 4, 9, 14, 3, 8, 13, 2, 7, 12, 1, 6, 11]\n",
      "[0, 6, 12, 2, 8, 14, 4, 10, 0, 6, 12, 2, 8, 14, 4, 10]\n",
      "[0, 7, 14, 5, 12, 3, 10, 1, 8, 15, 6, 13, 4, 11, 2, 9]\n",
      "[0, 8, 0, 8, 0, 8, 0, 8, 0, 8, 0, 8, 0, 8, 0, 8]\n",
      "[0, 9, 2, 11, 4, 13, 6, 15, 8, 1, 10, 3, 12, 5, 14, 7]\n",
      "[0, 10, 4, 14, 8, 2, 12, 6, 0, 10, 4, 14, 8, 2, 12, 6]\n",
      "[0, 11, 6, 1, 12, 7, 2, 13, 8, 3, 14, 9, 4, 15, 10, 5]\n",
      "[0, 12, 8, 4, 0, 12, 8, 4, 0, 12, 8, 4, 0, 12, 8, 4]\n",
      "[0, 13, 10, 7, 4, 1, 14, 11, 8, 5, 2, 15, 12, 9, 6, 3]\n",
      "[0, 14, 12, 10, 8, 6, 4, 2, 0, 14, 12, 10, 8, 6, 4, 2]\n",
      "[0, 15, 14, 13, 12, 11, 10, 9, 8, 7, 6, 5, 4, 3, 2, 1]\n",
      "\n",
      "Multiplicação: 5\n",
      "Inverso Multiplicativo: 13\n",
      "Adição: 6\n",
      "Inverso Aditivo: 10\n"
     ]
    }
   ],
   "source": [
    "def gerador_inv_mult():\n",
    "    table = [[0 for _ in range(16)] for _ in range(16)]\n",
    "    \n",
    "    for i in range(16):\n",
    "         for j in range(16):\n",
    "                 table[i][j] = (i * j) % 16\n",
    "            \n",
    "    return table\n",
    "\n",
    "# gerando a tabela com os inversos multiplicativos\n",
    "tabelaIM = gerador_inv_mult()\n",
    "\n",
    "def aditivo(x, y):\n",
    "    return (x + y) % 16\n",
    "    \n",
    "def multiplicativo(x, y):\n",
    "    return tabelaIM[x][y]\n",
    "    \n",
    "def inverso_multiplicativo(x, y):\n",
    "    m = x * y\n",
    "    for i in tabelaIM:\n",
    "        for j in i:\n",
    "            if(tabelaIM[j][m] == 1):\n",
    "                return j\n",
    "    return None\n",
    "    \n",
    "\n",
    "def inverso_aditivo(x, y):\n",
    "    soma = x + y\n",
    "    return ((16 - soma) % 16)\n",
    "\n",
    "# iniciando x e y\n",
    "x, y = 1, 5\n",
    "\n",
    "print(\"Tabela Inverso Multiplicativo:\")\n",
    "for i in tabelaIM:\n",
    "    print(i)\n",
    "\n",
    "print(\"\\nMultiplicação:\", multiplicativo(x, y))\n",
    "print(\"Inverso Multiplicativo:\", inverso_multiplicativo(x, y))\n",
    "print(\"Adição:\", aditivo(x, y))\n",
    "print(\"Inverso Aditivo:\", inverso_aditivo(x, y))"
   ]
  },
  {
   "cell_type": "code",
   "execution_count": null,
   "metadata": {
    "collapsed": false
   },
   "outputs": [],
   "source": []
  }
 ],
 "metadata": {
  "kernelspec": {
   "argv": [
    "sage-10.0",
    "--python",
    "-m",
    "sage.repl.ipython_kernel",
    "--matplotlib=inline",
    "-f",
    "{connection_file}"
   ],
   "display_name": "SageMath 10.0",
   "env": {},
   "language": "sagemath",
   "metadata": {
    "cocalc": {
     "description": "Open-source mathematical software system",
     "priority": 10,
     "url": "https://www.sagemath.org/"
    }
   },
   "name": "sage-10.0",
   "resource_dir": "/ext/jupyter/kernels/sage-10.0"
  },
  "language_info": {
   "codemirror_mode": {
    "name": "ipython",
    "version": 3
   },
   "file_extension": ".py",
   "mimetype": "text/x-python",
   "name": "python",
   "nbconvert_exporter": "python",
   "pygments_lexer": "ipython3",
   "version": "3.11.1"
  }
 },
 "nbformat": 4,
 "nbformat_minor": 4
}
