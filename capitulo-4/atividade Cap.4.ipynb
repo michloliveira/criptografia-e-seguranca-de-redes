{
 "cells": [
  {
   "cell_type": "markdown",
   "metadata": {
    "collapsed": false
   },
   "source": [
    "3\\)\n",
    "\n",
    "<span style='font-size:large'>Para cada uma das seguintes equações, encontre um inteiro x que satisfaça:</span>\n",
    "\n",
    "<span style='font-size:large'>**5x ≡ 4 \\(mod 3\\)**</span>\n",
    "\n",
    "<span style='font-size:large'>**7x ≡ 6 \\(mod 5\\)**</span>\n",
    "\n",
    "<span style='font-size:large'>**9x ≡ 8 \\(mod 7\\)**</span>\n"
   ]
  },
  {
   "cell_type": "code",
   "execution_count": 1,
   "metadata": {
    "collapsed": false
   },
   "outputs": [
    {
     "name": "stdout",
     "output_type": "stream",
     "text": [
      "3\n"
     ]
    }
   ],
   "source": [
    "# 7x = 6 mod 5\n",
    "# 5 = n\n",
    "# 7 = a \n",
    "# 6 = b\n",
    "\n",
    "# (7x - 6) / 5\n",
    "    \n",
    "def calcular_x(a,b,n):   \n",
    "    for x in range(1, 100):\n",
    "        y = a * x - b\n",
    "        if(y % n == 0):\n",
    "            print(x)\n",
    "            break\n",
    " \n",
    "calcular_x(7,6,5)"
   ]
  },
  {
   "cell_type": "code",
   "execution_count": 2,
   "metadata": {
    "collapsed": false
   },
   "outputs": [
    {
     "name": "stdout",
     "output_type": "stream",
     "text": [
      "x = 2\n",
      "x = 3\n",
      "x = 4\n"
     ]
    }
   ],
   "source": [
    "for x in range(0, 3):\n",
    "    if ((5*x) % 3) == 1:\n",
    "        print(f\"x = {x}\")\n",
    "\n",
    "for x in range(0, 5):\n",
    "    if ((7*x) % 5) == 1:\n",
    "        print(f\"x = {x}\")\n",
    "        \n",
    "for x in range(0, 7):\n",
    "    if ((9*x) % 7) == 1:\n",
    "        print(f\"x = {x}\")"
   ]
  },
  {
   "cell_type": "markdown",
   "metadata": {
    "collapsed": false
   },
   "source": [
    "4\\)\n",
    "\n",
    "<span style='font-size:large'>Encontre o inverso multiplicativo de cada elemento diferente de zero em Z5.</span>\n"
   ]
  },
  {
   "cell_type": "code",
   "execution_count": 29,
   "metadata": {
    "collapsed": false,
    "scrolled": true
   },
   "outputs": [
    {
     "name": "stdout",
     "output_type": "stream",
     "text": [
      "1\n",
      "3\n",
      "2\n",
      "4\n"
     ]
    }
   ],
   "source": [
    "K = GF(5)\n",
    "\n",
    "for i in K:\n",
    "    if i != 0:\n",
    "        print(i^-1)"
   ]
  },
  {
   "cell_type": "markdown",
   "metadata": {
    "collapsed": false
   },
   "source": [
    "5\\)\n",
    "\n",
    "<span style='font-size:large'>Determine os MDC:</span>\n",
    "\n",
    "<span style='font-size:large'>**mdc\\(24140, 16762\\)**</span>\n",
    "\n",
    "<span style='font-size:large'>**mdc\\(4655, 12075\\).**</span>\n"
   ]
  },
  {
   "cell_type": "code",
   "execution_count": 68,
   "metadata": {
    "collapsed": false
   },
   "outputs": [
    {
     "name": "stdout",
     "output_type": "stream",
     "text": [
      "34\n"
     ]
    }
   ],
   "source": [
    "print(gcd(24140, 16762))"
   ]
  },
  {
   "cell_type": "code",
   "execution_count": 69,
   "metadata": {
    "collapsed": false
   },
   "outputs": [
    {
     "name": "stdout",
     "output_type": "stream",
     "text": [
      "35\n"
     ]
    }
   ],
   "source": [
    "print(gcd(4655, 12075))"
   ]
  },
  {
   "cell_type": "markdown",
   "metadata": {
    "collapsed": false
   },
   "source": [
    "<span style='color:#4caf50'>6\\)</span>\n",
    "\n",
    "<span style='color:#4caf50'><span style='font-size:large'>Usando o algoritmo de Euclides estendido, encontre o inverso multiplicativo de:</span></span>\n",
    "\n",
    "<span style='color:#4caf50'><span style='font-size:large'>**1234 mod 4321;**</span></span>\n",
    "\n",
    "<span style='color:#4caf50'><span style='font-size:large'>**24140 mod 40902;**</span></span>\n",
    "\n",
    "<span style='color:#4caf50'><span style='font-size:large'>**550 mod 1769.**</span></span>\n",
    "\n"
   ]
  },
  {
   "cell_type": "code",
   "execution_count": 6,
   "metadata": {
    "collapsed": false
   },
   "outputs": [
    {
     "name": "stdout",
     "output_type": "stream",
     "text": [
      "3239\n"
     ]
    }
   ],
   "source": [
    "a = 1234\n",
    "b = 4321\n",
    "mdc, x, y = xgcd(a, b)\n",
    "\n",
    "print(x % b) if mdc == 1 else print(\"null\")\n"
   ]
  },
  {
   "cell_type": "code",
   "execution_count": 5,
   "metadata": {
    "collapsed": false
   },
   "outputs": [
    {
     "name": "stdout",
     "output_type": "stream",
     "text": [
      "null\n"
     ]
    }
   ],
   "source": [
    "a = 24140\n",
    "b = 40902\n",
    "mdc, x, y = xgcd(a, b)\n",
    "\n",
    "print(x % b) if mdc == 1 else print(\"null\")\n"
   ]
  },
  {
   "cell_type": "code",
   "execution_count": 7,
   "metadata": {
    "collapsed": false
   },
   "outputs": [
    {
     "name": "stdout",
     "output_type": "stream",
     "text": [
      "550\n"
     ]
    }
   ],
   "source": [
    "a = 550\n",
    "b = 1769\n",
    "mdc, x, y = xgcd(a, b)\n",
    "\n",
    "print(x % b) if mdc == 1 else print(\"null\")"
   ]
  },
  {
   "cell_type": "code",
   "execution_count": 10,
   "metadata": {
    "collapsed": false
   },
   "outputs": [
    {
     "name": "stdout",
     "output_type": "stream",
     "text": [
      "(1, -1082, 309)\n",
      "1\n"
     ]
    }
   ],
   "source": [
    "a = xgcd(1234,4321)\n",
    "print(a)\n",
    "\n",
    "print(a[0]^-1) # inverso multipicativo do primeiro valor da tupla (refere-se ao MCD)"
   ]
  },
  {
   "cell_type": "code",
   "execution_count": 11,
   "metadata": {
    "collapsed": false
   },
   "outputs": [
    {
     "name": "stdout",
     "output_type": "stream",
     "text": [
      "(34, -571, 337)\n",
      "1/34\n"
     ]
    }
   ],
   "source": [
    "a = xgcd(24140,40902)\n",
    "print(a)\n",
    "\n",
    "print(a[0]^-1) # inverso multipicativo do primeiro valor da tupla (refere-se ao MCD)"
   ]
  },
  {
   "cell_type": "code",
   "execution_count": 12,
   "metadata": {
    "collapsed": false
   },
   "outputs": [
    {
     "name": "stdout",
     "output_type": "stream",
     "text": [
      "(1, 550, -171)\n",
      "1\n"
     ]
    }
   ],
   "source": [
    "a = xgcd(550,1769)\n",
    "print(a)\n",
    "\n",
    "print(a[0]^-1) # inverso multipicativo do primeiro valor da tupla (refere-se ao MCD)"
   ]
  },
  {
   "cell_type": "markdown",
   "metadata": {
    "collapsed": false
   },
   "source": [
    "<span style='font-size:large'>7. Determine o inverso multiplicativo de x^3 \\+ x \\+ 1 em GF\\(2^4\\), com m\\(x\\) = x^4 \\+ x \\+ 1.</span>\n"
   ]
  },
  {
   "cell_type": "code",
   "execution_count": 2,
   "metadata": {
    "collapsed": false
   },
   "outputs": [
    {
     "data": {
      "text/plain": [
       "a^2 + 1"
      ]
     },
     "execution_count": 2,
     "metadata": {
     },
     "output_type": "execute_result"
    }
   ],
   "source": [
    "K.<a> = GF(2^4)\n",
    "\n",
    "\n",
    "x = K.gen()\n",
    "\n",
    "\n",
    "m = x^4 + x + 1\n",
    "\n",
    "\n",
    "f = x^3 + x + 1\n",
    "\n",
    "\n",
    "f_inv = f.inverse_mod(m)\n",
    "\n",
    "f_inv"
   ]
  },
  {
   "cell_type": "markdown",
   "metadata": {
    "collapsed": false
   },
   "source": [
    "<span style='font-size:large'>8. Para a aritmética de polinômios com coeficientes em Z10, realize os seguintes cálculos:</span>\n",
    "\n",
    "<span style='font-size:large'>\\(a\\) \\(7x \\+ 2\\) − \\(x^2 \\+ 5\\)</span>\n",
    "\n",
    "<span style='font-size:large'>\\(b\\) \\(6x^2 \\+ x \\+ 3\\) × \\(5x^2 \\+ 2\\)</span>\n",
    "\n"
   ]
  },
  {
   "cell_type": "code",
   "execution_count": 10,
   "metadata": {
    "collapsed": false
   },
   "outputs": [
    {
     "name": "stdout",
     "output_type": "stream",
     "text": [
      "10*k^2 + 7*k + 8\n"
     ]
    }
   ],
   "source": [
    "R.<k> = GF(11)[] # criar um anéis de polinômios sobre corpos finitos\n",
    "\n",
    "\n",
    "f = (7*k) + 2\n",
    "j = (k^2) + 5\n",
    "\n",
    "print((f - j))"
   ]
  },
  {
   "cell_type": "code",
   "execution_count": 16,
   "metadata": {
    "collapsed": false
   },
   "outputs": [
    {
     "name": "stdout",
     "output_type": "stream",
     "text": [
      "8*z^4 + 5*z^3 + 5*z^2 + 2*z + 6\n"
     ]
    }
   ],
   "source": [
    "K.<z> = GF(11)[] # criar um anéis de polinômios sobre corpos finitos\n",
    "\n",
    "#x = R.gen\n",
    "\n",
    "m = (6*z^2 + z + 3)\n",
    "n = (5*z^2 + 2)\n",
    "\n",
    "print(m *  n)"
   ]
  },
  {
   "cell_type": "code",
   "execution_count": 15,
   "metadata": {
    "collapsed": false
   },
   "outputs": [
    {
     "name": "stdout",
     "output_type": "stream",
     "text": [
      "3\n"
     ]
    }
   ],
   "source": [
    "K = GF(11, \"x\")\n",
    "x = K.gen()\n",
    "\n",
    "f = 7*x + 2\n",
    "j = x^2 + 5\n",
    "\n",
    "print((f - j))"
   ]
  },
  {
   "cell_type": "code",
   "execution_count": 17,
   "metadata": {
    "collapsed": false
   },
   "outputs": [
    {
     "name": "stdout",
     "output_type": "stream",
     "text": [
      "8*x^4 + 5*x^3 + 5*x^2 + 2*x + 6\n"
     ]
    }
   ],
   "source": [
    "F.<x> = GF(11)[]\n",
    "\n",
    "a = 6*x^2 + x + 3\n",
    "b = 5*x^2 + 2\n",
    "\n",
    "mult = (a * b)\n",
    "print(mult)"
   ]
  },
  {
   "cell_type": "code",
   "execution_count": 6,
   "metadata": {
    "collapsed": false
   },
   "outputs": [
    {
     "name": "stdout",
     "output_type": "stream",
     "text": [
      "30*x^4 + 5*x^3 + 27*x^2 + 2*x + 6\n"
     ]
    }
   ],
   "source": [
    "# Define the symbolic variable x\n",
    "var('x')\n",
    "#(6x^2 + x + 3) × (5x^2 + 2)\n",
    "# Define the given expression\n",
    "expression = expand((6*x^2 + x + 3) * (5*x^2 + 2))\n",
    "\n",
    "# Print the result\n",
    "print(expression)"
   ]
  },
  {
   "cell_type": "code",
   "execution_count": 8,
   "metadata": {
    "collapsed": false
   },
   "outputs": [
    {
     "name": "stdout",
     "output_type": "stream",
     "text": [
      "-x^2 + 7*x - 3\n"
     ]
    }
   ],
   "source": [
    "# Define the symbolic variable x\n",
    "var('x')\n",
    "\n",
    "# Define the given expression\n",
    "expression = expand((7*x + 2) - (x^2 + 5))\n",
    "\n",
    "# Print the result\n",
    "print(expression)"
   ]
  },
  {
   "cell_type": "markdown",
   "metadata": {
    "collapsed": false
   },
   "source": [
    "<span style='font-size:large'>Estruture uma calculadora simples de quatro funções em GF\\(2^4\\). Você pode usar uma tabela com valores pré\\-calculados para os inversos multiplicativos.</span>\n",
    "\n"
   ]
  },
  {
   "cell_type": "code",
   "execution_count": 64,
   "metadata": {
    "collapsed": false
   },
   "outputs": [
    {
     "name": "stdout",
     "output_type": "stream",
     "text": [
      "Adição: 0\n",
      "Subtração: 0\n",
      "Multiplicação: 3\n",
      "Divisão: 3\n"
     ]
    }
   ],
   "source": [
    "# Tabela de inversos multiplicativos em GF(2^4)\n",
    "inverse_table = {\n",
    "    0: 0,\n",
    "    1: 1,\n",
    "    2: 8,\n",
    "    3: 4,\n",
    "    4: 4,\n",
    "    5: 3,\n",
    "    6: 8,\n",
    "    7: 9,\n",
    "    8: 2,\n",
    "    9: 4,\n",
    "    10: 3,\n",
    "    11: 8,\n",
    "    12: 3,\n",
    "    13: 1,\n",
    "    14: 4,\n",
    "    15: None\n",
    "}\n",
    "\n",
    "def add(x, y):\n",
    "    return x ^ y % 16 # Adição em GF(2^4) é a mesma que a operação XOR\n",
    "\n",
    "def subtract(x, y):\n",
    "    return x ^ y % 16  # Subtração em GF(2^4) é a mesma que a operação XOR\n",
    "\n",
    "def multiply(x, y):\n",
    "    if x == 0 or y == 0:\n",
    "        return 0\n",
    "    else:\n",
    "        return inverse_table[(inverse_table[x] + inverse_table[y]) % 16]\n",
    "\n",
    "def divide(x, y):\n",
    "    if y == 0:\n",
    "        raise ZeroDivisionError(\"Divisão por zero não é permitida.\")\n",
    "    elif x == 0:\n",
    "        return 0\n",
    "    else:\n",
    "        return multiply(x, inverse_table[y])\n",
    "\n",
    "# Exemplo de uso\n",
    "a = 6\n",
    "b = 9\n",
    "\n",
    "print(\"Adição:\", add(a, b))\n",
    "print(\"Subtração:\", subtract(a, b))\n",
    "print(\"Multiplicação:\", multiply(a, b))\n",
    "print(\"Divisão:\", divide(a, b))\n"
   ]
  },
  {
   "cell_type": "code",
   "execution_count": 92,
   "metadata": {
    "collapsed": false
   },
   "outputs": [
    {
     "name": "stdout",
     "output_type": "stream",
     "text": [
      "6 6\n"
     ]
    }
   ],
   "source": [
    "tabela = [[0, 0, 0, 0],\n",
    "[1, 1, 1, 1],\n",
    "[9, 13, 11, 7],\n",
    "[13, 9, 7, 11],\n",
    "[7, 11, 9, 13],\n",
    "[10, 14, 8, 4],\n",
    "[14, 10, 4, 8],\n",
    "[4, 8, 10, 14],\n",
    "[11, 7, 13, 9],\n",
    "[15, 3, 5, 6],\n",
    "[3, 15, 6, 5],\n",
    "[5, 6, 15, 3],\n",
    "[6, 5, 3, 15],\n",
    "[8, 4, 14, 10],\n",
    "[12, 2, 0, 0],\n",
    "[2, 12, 0, 0]]\n",
    "\n",
    "\n",
    "def add(x, y):\n",
    "    return x + y\n",
    "\n",
    "def multiply(x, y):\n",
    "    return x * y\n",
    "\n",
    "def mult_inverse(x, y):\n",
    "    if x == 0 or y == 0:\n",
    "        return 0\n",
    "    else:\n",
    "        return tabela[x][y]\n",
    "\n",
    "def add_inverse(x, y):\n",
    "    return tabela[x][y] % 16\n",
    "\n",
    "x = 10\n",
    "y = 2\n",
    "\n",
    "soma = add_inverse(x, y)\n",
    "mult = mult_inverse(x, y)\n",
    "\n",
    "\n",
    "print(mult, soma)"
   ]
  },
  {
   "cell_type": "code",
   "execution_count": 102,
   "metadata": {
    "collapsed": false
   },
   "outputs": [
    {
     "name": "stdout",
     "output_type": "stream",
     "text": [
      "10 0\n"
     ]
    }
   ],
   "source": [
    "def gf_multiplicationtable():\n",
    "    table = [[0 for _ in range(16)] for _ in range(16)]\n",
    "    \n",
    "    for i in range(16):\n",
    "         for j in range(16):\n",
    "                 table[i][j] = (i * j) % 16\n",
    "            \n",
    "    return table\n",
    "\n",
    "tabela = gf_multiplicationtable()\n",
    "\n",
    "\n",
    "def additive():\n",
    "    table = [[0 for _ in range(16)] for _ in range(16)]\n",
    "\n",
    "    for i in range(16):\n",
    "        for j in range(16):\n",
    "                table[i][j] = (i + j) % 16\n",
    "\n",
    "    return table\n",
    " \n",
    "\n",
    "tabela2 = additive()\n",
    "\n",
    "#def mult(x, y):\n",
    "    #return x * y\n",
    "\n",
    "def mult_inverse(x, y):        \n",
    "    if(x == 0 and y == 0):\n",
    "        return 0\n",
    "    return tabela[x][y]\n",
    "\n",
    "def additive_inverse(x, y):\n",
    "    if(x == 0 and y == 0):\n",
    "        return 0\n",
    "    return tabela2[x][y]\n",
    "    \n",
    "\n",
    "\n",
    "x, y = 8, 2 \n",
    "\n",
    "soma =  additive_inverse(x, y)\n",
    "#multip = mult(x, y)\n",
    "multi =  mult_inverse(x, y)\n",
    "#multip_inverse = gf_multiplicative_inversetable(x,y)\n",
    "\n",
    "print(soma, multip)"
   ]
  },
  {
   "cell_type": "code",
   "execution_count": 97,
   "metadata": {
    "collapsed": false
   },
   "outputs": [
    {
     "name": "stdout",
     "output_type": "stream",
     "text": [
      "Adição: 6\n",
      "Multiplicação: 5\n",
      "Inverso aditivo: 10\n",
      "Inverso multiplicativo: 13\n"
     ]
    }
   ],
   "source": [
    "def multiplicative_inverse(produto):\n",
    "    if produto == 0:\n",
    "        return 0\n",
    "\n",
    "    # Inverso multiplicativo inicial\n",
    "    inverse = 1\n",
    "\n",
    "    #  calcula o inverso multiplicativo utilizando o algoritmo de Euclides estendido\n",
    "    for _ in range(16):\n",
    "        inverse = (inverse * produto) % 16\n",
    "        produto = (produto * produto) % 16\n",
    "\n",
    "    return inverse\n",
    "\n",
    "\n",
    "\n",
    "def additive(x, y):\n",
    "    return (x + y) % 16    \n",
    " \n",
    "\n",
    "def mult(x, y):        \n",
    "    if(x == 0 and y == 0):\n",
    "        return 0\n",
    "    return (x * y) % 16\n",
    "\n",
    "\n",
    "def additive_inverse(soma):\n",
    "    # Calcula o aditivo inverso em GF(16)\n",
    "    inverse = (16 - soma) % 16\n",
    "    return inverse\n",
    "\n",
    "\n",
    "#x, y = 5, 10 \n",
    "#x,y = 1,1\n",
    "x,y = 1, 5\n",
    "\n",
    "aditivo =  additive(x, y)\n",
    " = mult(x,y)\n",
    "aditivo_inverso = additive_inverse(aditivo)\n",
    "multi_inverso =   multiplicative_inverse(multi)\n",
    "\n",
    "\n",
    "print(\"Adição:\",aditivo)\n",
    "print(\"Multiplicação:\",multi)\n",
    "print(\"Inverso aditivo:\",aditivo_inverso)\n",
    "print(\"Inverso multiplicativo:\",multi_inverso)\n"
   ]
  }
 ],
 "metadata": {
  "kernelspec": {
   "argv": [
    "sage-10.0",
    "--python",
    "-m",
    "sage.repl.ipython_kernel",
    "--matplotlib=inline",
    "-f",
    "{connection_file}"
   ],
   "display_name": "SageMath 10.0",
   "env": {
   },
   "language": "sagemath",
   "metadata": {
    "cocalc": {
     "description": "Open-source mathematical software system",
     "priority": 10,
     "url": "https://www.sagemath.org/"
    }
   },
   "name": "sage-10.0",
   "resource_dir": "/ext/jupyter/kernels/sage-10.0"
  },
  "language_info": {
   "codemirror_mode": {
    "name": "ipython",
    "version": 3
   },
   "file_extension": ".py",
   "mimetype": "text/x-python",
   "name": "python",
   "nbconvert_exporter": "python",
   "pygments_lexer": "ipython3",
   "version": "3.11.1"
  }
 },
 "nbformat": 4,
 "nbformat_minor": 4
}