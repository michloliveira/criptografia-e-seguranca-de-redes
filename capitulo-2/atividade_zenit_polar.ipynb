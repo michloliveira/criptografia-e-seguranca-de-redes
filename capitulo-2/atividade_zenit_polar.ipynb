{
 "cells": [
  {
   "attachments": {},
   "cell_type": "markdown",
   "metadata": {
    "collapsed": false
   },
   "source": [
    "<span style='font-size:large'>**ZENIT POLAR**</span>\n",
    "\n"
   ]
  },
  {
   "cell_type": "code",
   "execution_count": 1,
   "metadata": {
    "collapsed": false
   },
   "outputs": [
    {
     "name": "stdout",
     "output_type": "stream",
     "text": [
      "polar zenit o umi ctazregtifai\n",
      "zenit polar e uma criptografia\n"
     ]
    }
   ],
   "source": [
    "zenit = [\"z\", \"e\", \"n\", \"i\", \"t\"]\n",
    "polar = [\"p\", \"o\", \"l\", \"a\", \"r\"]\n",
    "\n",
    "def zenit_polar(text):\n",
    "    result = \"\"\n",
    "    text = text.lower()\n",
    "    for c in text:\n",
    "        if(c in zenit):\n",
    "            result += polar[zenit.index(c)]\n",
    "        elif(c in polar):\n",
    "            result += zenit[polar.index(c)]\n",
    "        else:\n",
    "            result += c\n",
    "        \n",
    "    print(result.lower())\n",
    "            \n",
    "        \n",
    "texto_claro = \"zenit polar e uma criptografia\"        \n",
    "zenit_polar(texto_claro)\n",
    "\n",
    "texto_escuro = \"polar zenit o umi ctazregtifai\"\n",
    "zenit_polar(texto_escuro)\n"
   ]
  }
 ],
 "metadata": {
  "kernelspec": {
   "argv": [
    "sage-10.0",
    "--python",
    "-m",
    "sage.repl.ipython_kernel",
    "--matplotlib=inline",
    "-f",
    "{connection_file}"
   ],
   "display_name": "SageMath 10.0",
   "env": {},
   "language": "sagemath",
   "metadata": {
    "cocalc": {
     "description": "Open-source mathematical software system",
     "priority": 10,
     "url": "https://www.sagemath.org/"
    }
   },
   "name": "sage-10.0",
   "resource_dir": "/ext/jupyter/kernels/sage-10.0"
  },
  "language_info": {
   "codemirror_mode": {
    "name": "ipython",
    "version": 3
   },
   "file_extension": ".py",
   "mimetype": "text/x-python",
   "name": "python",
   "nbconvert_exporter": "python",
   "pygments_lexer": "ipython3",
   "version": "3.11.1"
  }
 },
 "nbformat": 4,
 "nbformat_minor": 4
}
